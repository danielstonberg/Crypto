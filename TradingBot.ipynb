{
  "nbformat": 4,
  "nbformat_minor": 0,
  "metadata": {
    "colab": {
      "provenance": [],
      "authorship_tag": "ABX9TyO7JjA879qhQArKVivwCV2m",
      "include_colab_link": true
    },
    "kernelspec": {
      "name": "python3",
      "display_name": "Python 3"
    },
    "language_info": {
      "name": "python"
    }
  },
  "cells": [
    {
      "cell_type": "markdown",
      "metadata": {
        "id": "view-in-github",
        "colab_type": "text"
      },
      "source": [
        "<a href=\"https://colab.research.google.com/github/danielstonberg/Crypto/blob/main/TradingBot.ipynb\" target=\"_parent\"><img src=\"https://colab.research.google.com/assets/colab-badge.svg\" alt=\"Open In Colab\"/></a>"
      ]
    },
    {
      "cell_type": "markdown",
      "source": [
        "# Setup"
      ],
      "metadata": {
        "id": "UYhGJVqqV_iA"
      }
    },
    {
      "cell_type": "markdown",
      "source": [
        "###Install Libraries"
      ],
      "metadata": {
        "id": "siceB72vUr4N"
      }
    },
    {
      "cell_type": "code",
      "execution_count": 1,
      "metadata": {
        "colab": {
          "base_uri": "https://localhost:8080/"
        },
        "id": "GD8zogJnUlDo",
        "outputId": "3aa66b15-9f56-4ec7-d0a1-64fcd571ba0f"
      },
      "outputs": [
        {
          "output_type": "stream",
          "name": "stdout",
          "text": [
            "Collecting coinbase-advanced-py\n",
            "  Downloading coinbase_advanced_py-1.4.2-py3-none-any.whl (52 kB)\n",
            "\u001b[2K     \u001b[90m━━━━━━━━━━━━━━━━━━━━━━━━━━━━━━━━━━━━━━━━\u001b[0m \u001b[32m52.1/52.1 kB\u001b[0m \u001b[31m1.4 MB/s\u001b[0m eta \u001b[36m0:00:00\u001b[0m\n",
            "\u001b[?25hRequirement already satisfied: requests>=2.31.0 in /usr/local/lib/python3.10/dist-packages (from coinbase-advanced-py) (2.31.0)\n",
            "Requirement already satisfied: cryptography>=42.0.4 in /usr/local/lib/python3.10/dist-packages (from coinbase-advanced-py) (42.0.8)\n",
            "Collecting PyJWT>=2.8.0 (from coinbase-advanced-py)\n",
            "  Downloading PyJWT-2.8.0-py3-none-any.whl (22 kB)\n",
            "Collecting websockets>=12.0 (from coinbase-advanced-py)\n",
            "  Downloading websockets-12.0-cp310-cp310-manylinux_2_5_x86_64.manylinux1_x86_64.manylinux_2_17_x86_64.manylinux2014_x86_64.whl (130 kB)\n",
            "\u001b[2K     \u001b[90m━━━━━━━━━━━━━━━━━━━━━━━━━━━━━━━━━━━━━━━━\u001b[0m \u001b[32m130.2/130.2 kB\u001b[0m \u001b[31m2.0 MB/s\u001b[0m eta \u001b[36m0:00:00\u001b[0m\n",
            "\u001b[?25hCollecting backoff>=2.2.1 (from coinbase-advanced-py)\n",
            "  Downloading backoff-2.2.1-py3-none-any.whl (15 kB)\n",
            "Requirement already satisfied: cffi>=1.12 in /usr/local/lib/python3.10/dist-packages (from cryptography>=42.0.4->coinbase-advanced-py) (1.16.0)\n",
            "Requirement already satisfied: charset-normalizer<4,>=2 in /usr/local/lib/python3.10/dist-packages (from requests>=2.31.0->coinbase-advanced-py) (3.3.2)\n",
            "Requirement already satisfied: idna<4,>=2.5 in /usr/local/lib/python3.10/dist-packages (from requests>=2.31.0->coinbase-advanced-py) (3.7)\n",
            "Requirement already satisfied: urllib3<3,>=1.21.1 in /usr/local/lib/python3.10/dist-packages (from requests>=2.31.0->coinbase-advanced-py) (2.0.7)\n",
            "Requirement already satisfied: certifi>=2017.4.17 in /usr/local/lib/python3.10/dist-packages (from requests>=2.31.0->coinbase-advanced-py) (2024.7.4)\n",
            "Requirement already satisfied: pycparser in /usr/local/lib/python3.10/dist-packages (from cffi>=1.12->cryptography>=42.0.4->coinbase-advanced-py) (2.22)\n",
            "Installing collected packages: websockets, PyJWT, backoff, coinbase-advanced-py\n",
            "  Attempting uninstall: PyJWT\n",
            "    Found existing installation: PyJWT 2.3.0\n",
            "    Uninstalling PyJWT-2.3.0:\n",
            "      Successfully uninstalled PyJWT-2.3.0\n",
            "Successfully installed PyJWT-2.8.0 backoff-2.2.1 coinbase-advanced-py-1.4.2 websockets-12.0\n",
            "Collecting coinbase\n",
            "  Downloading coinbase-2.1.0.tar.gz (68 kB)\n",
            "\u001b[2K     \u001b[90m━━━━━━━━━━━━━━━━━━━━━━━━━━━━━━━━━━━━━━━━\u001b[0m \u001b[32m69.0/69.0 kB\u001b[0m \u001b[31m775.9 kB/s\u001b[0m eta \u001b[36m0:00:00\u001b[0m\n",
            "\u001b[?25h  Preparing metadata (setup.py) ... \u001b[?25l\u001b[?25hdone\n",
            "Requirement already satisfied: pandas in /usr/local/lib/python3.10/dist-packages (2.0.3)\n",
            "Requirement already satisfied: statsmodels in /usr/local/lib/python3.10/dist-packages (0.14.2)\n",
            "Requirement already satisfied: requests>=2.5 in /usr/local/lib/python3.10/dist-packages (from coinbase) (2.31.0)\n",
            "Requirement already satisfied: six>=1.9 in /usr/local/lib/python3.10/dist-packages (from coinbase) (1.16.0)\n",
            "Collecting pycryptodome>=3.4.11 (from coinbase)\n",
            "  Downloading pycryptodome-3.20.0-cp35-abi3-manylinux_2_17_x86_64.manylinux2014_x86_64.whl (2.1 MB)\n",
            "\u001b[2K     \u001b[90m━━━━━━━━━━━━━━━━━━━━━━━━━━━━━━━━━━━━━━━━\u001b[0m \u001b[32m2.1/2.1 MB\u001b[0m \u001b[31m10.4 MB/s\u001b[0m eta \u001b[36m0:00:00\u001b[0m\n",
            "\u001b[?25hRequirement already satisfied: python-dateutil>=2.8.2 in /usr/local/lib/python3.10/dist-packages (from pandas) (2.8.2)\n",
            "Requirement already satisfied: pytz>=2020.1 in /usr/local/lib/python3.10/dist-packages (from pandas) (2023.4)\n",
            "Requirement already satisfied: tzdata>=2022.1 in /usr/local/lib/python3.10/dist-packages (from pandas) (2024.1)\n",
            "Requirement already satisfied: numpy>=1.21.0 in /usr/local/lib/python3.10/dist-packages (from pandas) (1.25.2)\n",
            "Requirement already satisfied: scipy!=1.9.2,>=1.8 in /usr/local/lib/python3.10/dist-packages (from statsmodels) (1.11.4)\n",
            "Requirement already satisfied: patsy>=0.5.6 in /usr/local/lib/python3.10/dist-packages (from statsmodels) (0.5.6)\n",
            "Requirement already satisfied: packaging>=21.3 in /usr/local/lib/python3.10/dist-packages (from statsmodels) (24.1)\n",
            "Requirement already satisfied: charset-normalizer<4,>=2 in /usr/local/lib/python3.10/dist-packages (from requests>=2.5->coinbase) (3.3.2)\n",
            "Requirement already satisfied: idna<4,>=2.5 in /usr/local/lib/python3.10/dist-packages (from requests>=2.5->coinbase) (3.7)\n",
            "Requirement already satisfied: urllib3<3,>=1.21.1 in /usr/local/lib/python3.10/dist-packages (from requests>=2.5->coinbase) (2.0.7)\n",
            "Requirement already satisfied: certifi>=2017.4.17 in /usr/local/lib/python3.10/dist-packages (from requests>=2.5->coinbase) (2024.7.4)\n",
            "Building wheels for collected packages: coinbase\n",
            "  Building wheel for coinbase (setup.py) ... \u001b[?25l\u001b[?25hdone\n",
            "  Created wheel for coinbase: filename=coinbase-2.1.0-py2.py3-none-any.whl size=20960 sha256=0c0285870103eca90d8f9db4f699bf8fd0fc9c1f728928be4256bdf59a9af5f3\n",
            "  Stored in directory: /root/.cache/pip/wheels/b6/6c/7a/f1d562a12cb9c513d254b7df8d40946bcb95cd1467be6cd1fd\n",
            "Successfully built coinbase\n",
            "Installing collected packages: pycryptodome, coinbase\n",
            "Successfully installed coinbase-2.1.0 pycryptodome-3.20.0\n",
            "Requirement already satisfied: gspread in /usr/local/lib/python3.10/dist-packages (6.0.2)\n",
            "Requirement already satisfied: pandas in /usr/local/lib/python3.10/dist-packages (2.0.3)\n",
            "Requirement already satisfied: google-auth>=1.12.0 in /usr/local/lib/python3.10/dist-packages (from gspread) (2.27.0)\n",
            "Requirement already satisfied: google-auth-oauthlib>=0.4.1 in /usr/local/lib/python3.10/dist-packages (from gspread) (1.2.1)\n",
            "Requirement already satisfied: StrEnum==0.4.15 in /usr/local/lib/python3.10/dist-packages (from gspread) (0.4.15)\n",
            "Requirement already satisfied: python-dateutil>=2.8.2 in /usr/local/lib/python3.10/dist-packages (from pandas) (2.8.2)\n",
            "Requirement already satisfied: pytz>=2020.1 in /usr/local/lib/python3.10/dist-packages (from pandas) (2023.4)\n",
            "Requirement already satisfied: tzdata>=2022.1 in /usr/local/lib/python3.10/dist-packages (from pandas) (2024.1)\n",
            "Requirement already satisfied: numpy>=1.21.0 in /usr/local/lib/python3.10/dist-packages (from pandas) (1.25.2)\n",
            "Requirement already satisfied: cachetools<6.0,>=2.0.0 in /usr/local/lib/python3.10/dist-packages (from google-auth>=1.12.0->gspread) (5.4.0)\n",
            "Requirement already satisfied: pyasn1-modules>=0.2.1 in /usr/local/lib/python3.10/dist-packages (from google-auth>=1.12.0->gspread) (0.4.0)\n",
            "Requirement already satisfied: rsa<5,>=3.1.4 in /usr/local/lib/python3.10/dist-packages (from google-auth>=1.12.0->gspread) (4.9)\n",
            "Requirement already satisfied: requests-oauthlib>=0.7.0 in /usr/local/lib/python3.10/dist-packages (from google-auth-oauthlib>=0.4.1->gspread) (1.3.1)\n",
            "Requirement already satisfied: six>=1.5 in /usr/local/lib/python3.10/dist-packages (from python-dateutil>=2.8.2->pandas) (1.16.0)\n",
            "Requirement already satisfied: pyasn1<0.7.0,>=0.4.6 in /usr/local/lib/python3.10/dist-packages (from pyasn1-modules>=0.2.1->google-auth>=1.12.0->gspread) (0.6.0)\n",
            "Requirement already satisfied: oauthlib>=3.0.0 in /usr/local/lib/python3.10/dist-packages (from requests-oauthlib>=0.7.0->google-auth-oauthlib>=0.4.1->gspread) (3.2.2)\n",
            "Requirement already satisfied: requests>=2.0.0 in /usr/local/lib/python3.10/dist-packages (from requests-oauthlib>=0.7.0->google-auth-oauthlib>=0.4.1->gspread) (2.31.0)\n",
            "Requirement already satisfied: charset-normalizer<4,>=2 in /usr/local/lib/python3.10/dist-packages (from requests>=2.0.0->requests-oauthlib>=0.7.0->google-auth-oauthlib>=0.4.1->gspread) (3.3.2)\n",
            "Requirement already satisfied: idna<4,>=2.5 in /usr/local/lib/python3.10/dist-packages (from requests>=2.0.0->requests-oauthlib>=0.7.0->google-auth-oauthlib>=0.4.1->gspread) (3.7)\n",
            "Requirement already satisfied: urllib3<3,>=1.21.1 in /usr/local/lib/python3.10/dist-packages (from requests>=2.0.0->requests-oauthlib>=0.7.0->google-auth-oauthlib>=0.4.1->gspread) (2.0.7)\n",
            "Requirement already satisfied: certifi>=2017.4.17 in /usr/local/lib/python3.10/dist-packages (from requests>=2.0.0->requests-oauthlib>=0.7.0->google-auth-oauthlib>=0.4.1->gspread) (2024.7.4)\n"
          ]
        }
      ],
      "source": [
        "# Install necessary libraries\n",
        "!pip3 install coinbase-advanced-py\n",
        "!pip install coinbase pandas statsmodels\n",
        "!pip install gspread pandas\n",
        "\n",
        "from coinbase.wallet.error import CoinbaseError\n",
        "\n",
        "import pandas as pd\n",
        "import uuid\n",
        "import json\n",
        "from datetime import datetime, timedelta\n",
        "import requests\n",
        "import time\n",
        "import logging\n",
        "from sklearn.preprocessing import MinMaxScaler\n",
        "from keras.models import Sequential\n",
        "from keras.layers import LSTM, Dense, Dropout\n",
        "import matplotlib.pyplot as plt\n",
        "import numpy as np\n"
      ]
    },
    {
      "cell_type": "markdown",
      "source": [
        "###Connect to Google Sheets"
      ],
      "metadata": {
        "id": "D1aoNEVVUyvX"
      }
    },
    {
      "cell_type": "code",
      "source": [
        "import gspread\n",
        "from google.oauth2.service_account import Credentials\n",
        "from google.colab import drive\n",
        "\n",
        "# service account email: danny-125@cryptotrades-429213.iam.gserviceaccount.com\n",
        "# service account id: 102642234583282890448\n",
        "# serive account key: ed9181ec7f49b540d1d9d775b8543c952ab0c51f\n",
        "\n",
        "\n",
        "# Path to your service account key file\n",
        "SERVICE_ACCOUNT_FILE = '/content/drive/MyDrive/Quant Recruiting/GoogleServiceKey.json'\n",
        "\n",
        "# Define the scope\n",
        "SCOPES = [\"https://www.googleapis.com/auth/spreadsheets\", \"https://www.googleapis.com/auth/drive\"]\n",
        "\n",
        "# Authenticate using the service account\n",
        "credentials = Credentials.from_service_account_file(SERVICE_ACCOUNT_FILE, scopes=SCOPES)\n",
        "\n",
        "# Authenticate and initialize the gspread client\n",
        "gc = gspread.authorize(credentials)\n",
        "\n",
        "# Open the Google Sheets document by its name or URL\n",
        "spreadsheet = gc.open(\"CryptoTrading\")"
      ],
      "metadata": {
        "id": "nYpvgQJ4U1Bh"
      },
      "execution_count": null,
      "outputs": []
    },
    {
      "cell_type": "markdown",
      "source": [
        "### Connect to coinbase wallet"
      ],
      "metadata": {
        "id": "mPylO-YCU6Hy"
      }
    },
    {
      "cell_type": "code",
      "source": [
        "from coinbase.wallet.client import Client\n",
        "from coinbase.rest import RESTClient\n",
        "from json import dumps\n",
        "import statsmodels.api as sm\n",
        "from google.colab import userdata\n",
        "\n",
        "# API key\n",
        "api_key = userdata.get('CoinbaseApi')\n",
        "\n",
        "# API secret (private key in this case)\n",
        "api_secret = userdata.get('CoinbaseSecret')\n",
        "# Initialize the Coinbase client\n",
        "client = RESTClient(api_key=api_key, api_secret=api_secret)"
      ],
      "metadata": {
        "id": "V5xJv7b-U712"
      },
      "execution_count": null,
      "outputs": []
    },
    {
      "cell_type": "markdown",
      "source": [
        "### Define a function to place an order and log it to google sheets"
      ],
      "metadata": {
        "id": "hcpyGsP5VASY"
      }
    },
    {
      "cell_type": "code",
      "source": [
        "def place_order_and_log_to_sheets(client, spreadsheet, product_id, quote_size, strategy_id=\"0\"):\n",
        "    # Generate a unique client order ID\n",
        "    client_order_id = str(uuid.uuid4())\n",
        "\n",
        "    # Place a market order\n",
        "    try:\n",
        "        order = client.market_order_buy(\n",
        "            client_order_id=client_order_id,\n",
        "            product_id=product_id,\n",
        "            quote_size=quote_size\n",
        "        )\n",
        "        print(\"Order response:\", json.dumps(order, indent=2))  # Print the order response\n",
        "    except Exception as e:\n",
        "        print(f\"Error placing order: {e}\")\n",
        "        return\n",
        "\n",
        "    # Extract the success response\n",
        "    success_response = order.get(\"success_response\", {})\n",
        "    order_id = success_response.get(\"order_id\", None)\n",
        "    product_id = success_response.get(\"product_id\", \"N/A\")\n",
        "    side = success_response.get(\"side\", \"N/A\")\n",
        "\n",
        "    if not order_id:\n",
        "        print(\"Order ID not found in the success response\")\n",
        "        return\n",
        "\n",
        "     # Get fills for the order with a retry mechanism\n",
        "    fills = []\n",
        "    for _ in range(5):  # Retry up to 5 times\n",
        "        try:\n",
        "            fills_response = client.get_fills(order_id=order_id)\n",
        "            print(\"Fills response:\", json.dumps(fills_response, indent=2))  # Print the fills response\n",
        "            fills = fills_response.get(\"fills\", [])\n",
        "            if fills:\n",
        "                break  # Exit the loop if fills are found\n",
        "        except Exception as e:\n",
        "            print(f\"Error getting fills: {e}\")\n",
        "        time.sleep(1)  # Wait for 1 second before retrying\n",
        "        print(\"Retrying...\")\n",
        "\n",
        "    if not fills:\n",
        "        print(\"No fills found for the order\")\n",
        "        fills = [{}]  # Ensure we have at least one empty fill to create the DataFrame\n",
        "\n",
        "    # Get the current time\n",
        "    current_time = datetime.now().strftime('%Y-%m-%d %H:%M:%S')\n",
        "\n",
        "    # Create a DataFrame for the order\n",
        "    order_data = {\n",
        "        \"client_order_id\": [client_order_id],\n",
        "        \"product_id\": [product_id],\n",
        "        \"side\": [side],\n",
        "        \"quote_size\": [float(quote_size)],\n",
        "        \"created_at\": [current_time]\n",
        "    }\n",
        "    order_df = pd.DataFrame(order_data)\n",
        "\n",
        "    # Create a DataFrame for the fills\n",
        "    fills_df = pd.DataFrame(fills)\n",
        "    if not fills_df.empty:\n",
        "      numeric_columns = ['size', 'price', 'commision']\n",
        "      for col in numeric_columns:\n",
        "        if col in fills_df.columns:\n",
        "            fills_df[col] = pd.to_numeric(fills_df[col], errors='coerce')\n",
        "      fills_df['holding_value'] = fills_df['size'] / fills_df['price']\n",
        "\n",
        "\n",
        "\n",
        "    # Convert DataFrames to list of lists\n",
        "    order_values = order_df.values.tolist()\n",
        "    fills_values = fills_df.values.tolist()\n",
        "\n",
        "\n",
        "    # Select the \"Orders\" worksheet and append the order data\n",
        "    orders_worksheet = spreadsheet.worksheet(\"Orders\")\n",
        "    orders_worksheet.append_rows(order_values, value_input_option='USER_ENTERED')\n",
        "\n",
        "    # Select the \"Fills\" worksheet and append the fills data\n",
        "    fills_worksheet = spreadsheet.worksheet(\"Fills\")\n",
        "    fills_worksheet.append_rows(fills_values, value_input_option='USER_ENTERED')\n",
        "\n",
        "    print(\"Order data appended to Google Sheets 'Orders' sheet\")\n",
        "    print(\"Fills data appended to Google Sheets 'Fills' sheet\")"
      ],
      "metadata": {
        "id": "n4AUTLGHVOOJ"
      },
      "execution_count": null,
      "outputs": []
    },
    {
      "cell_type": "markdown",
      "source": [
        "#Build Trading Algorithm"
      ],
      "metadata": {
        "id": "4fNgnwFcV6C4"
      }
    },
    {
      "cell_type": "markdown",
      "source": [
        "### Fetch Historical Data"
      ],
      "metadata": {
        "id": "Q7o-IipnV8Xz"
      }
    },
    {
      "cell_type": "code",
      "source": [
        "CRYPTOCOMPARE_API_KEY = userdata.get('CryptoCompare')\n",
        "\n",
        "def fetch_historical_data(asset, limit=365):\n",
        "    url = f'https://min-api.cryptocompare.com/data/v2/histoday'\n",
        "    params = {\n",
        "        'fsym': asset,\n",
        "        'tsym': 'USD',\n",
        "        'limit': limit,\n",
        "        'api_key': CRYPTOCOMPARE_API_KEY\n",
        "    }\n",
        "    response = requests.get(url, params=params)\n",
        "    data = response.json()\n",
        "    df = pd.DataFrame(data['Data']['Data'])\n",
        "    df['time'] = pd.to_datetime(df['time'], unit='s')\n",
        "    return df[['time', 'close']].rename(columns={'time': 'date', 'close': 'price'})\n",
        "\n",
        "# Define the time range for historical data\n",
        "end_date = datetime.now()\n",
        "start_date = end_date - timedelta(days=365)  # Last 1 year\n",
        "\n",
        "assets = ['LTC']\n",
        "\n",
        "# Fetch historical data for each asset\n",
        "historical_data = {}\n",
        "for asset in assets:\n",
        "    historical_data[asset] = fetch_historical_data(asset)\n",
        "    historical_data[asset].set_index('date', inplace=True)"
      ],
      "metadata": {
        "id": "pktNvl8_WD6Q"
      },
      "execution_count": null,
      "outputs": []
    },
    {
      "cell_type": "markdown",
      "source": [
        "### Fetch Live Price"
      ],
      "metadata": {
        "id": "wsdp7FAIWGBo"
      }
    },
    {
      "cell_type": "code",
      "source": [
        "def fetch_live_price(client, currency_pair='LTC-USD'):\n",
        "    try:\n",
        "        price = client.get_spot_price(currency_pair=currency_pair)['amount']\n",
        "        return float(price)\n",
        "    except CoinbaseError as e:\n",
        "        logging.error(f'Error fetching live price: {e}')\n",
        "        return None"
      ],
      "metadata": {
        "id": "-Owh9LPSWIav"
      },
      "execution_count": null,
      "outputs": []
    },
    {
      "cell_type": "markdown",
      "source": [
        "### Create Sequences"
      ],
      "metadata": {
        "id": "cdrQPF5XWJyw"
      }
    },
    {
      "cell_type": "code",
      "source": [
        "def create_sequences(data, seq_length):\n",
        "    X = []\n",
        "    y = []\n",
        "    for i in range(len(data) - seq_length - 1):\n",
        "        X.append(data[i:i+seq_length])\n",
        "        y.append(data[i+seq_length])\n",
        "    return np.array(X), np.array(y)"
      ],
      "metadata": {
        "id": "ZmUE5LAwWLJr"
      },
      "execution_count": null,
      "outputs": []
    },
    {
      "cell_type": "markdown",
      "source": [
        "### Train Model"
      ],
      "metadata": {
        "id": "byBUPjVMWU5v"
      }
    },
    {
      "cell_type": "code",
      "source": [
        "def train_and_predict(data, seq_length=15, epochs=15):\n",
        "    data = data.reshape(-1, 1)\n",
        "\n",
        "    # Scale data to [0, 1]\n",
        "    scaler = MinMaxScaler(feature_range=(0, 1))\n",
        "    scaled_data = scaler.fit_transform(data)\n",
        "\n",
        "    # Create training and test datasets\n",
        "    train_size = int(len(scaled_data) * 0.8)\n",
        "    train_data = scaled_data[:train_size]\n",
        "    test_data = scaled_data[train_size:]\n",
        "\n",
        "    # Create sequences\n",
        "    X_train, y_train = create_sequences(train_data, seq_length)\n",
        "    X_test, y_test = create_sequences(test_data, seq_length)\n",
        "\n",
        "    # Build LSTM model\n",
        "    model = Sequential()\n",
        "    model.add(LSTM(50, return_sequences=True, input_shape=(seq_length, 1)))\n",
        "    model.add(Dropout(0.2))\n",
        "    model.add(LSTM(50, return_sequences=False))\n",
        "    model.add(Dropout(0.2))\n",
        "    model.add(Dense(25))\n",
        "    model.add(Dense(1))\n",
        "\n",
        "    model.compile(optimizer='adam', loss='mean_squared_error')\n",
        "\n",
        "    # Train the model\n",
        "    model.fit(X_train, y_train, batch_size=1, epochs=epochs, validation_split=0.2)\n",
        "\n",
        "    # Predicting\n",
        "    predictions = model.predict(X_test)\n",
        "    predictions = scaler.inverse_transform(predictions)\n",
        "    y_test_actual = scaler.inverse_transform(y_test.reshape(-1, 1))\n",
        "\n",
        "    return model, scaler, seq_length"
      ],
      "metadata": {
        "id": "2HryPXjlWV9s"
      },
      "execution_count": null,
      "outputs": []
    },
    {
      "cell_type": "markdown",
      "source": [
        "### Generate Signals"
      ],
      "metadata": {
        "id": "Ovogd2FVWYFW"
      }
    },
    {
      "cell_type": "code",
      "source": [
        "def generate_trading_signals(actual_prices, predictions, threshold=0.005, period=5):\n",
        "    signals = []\n",
        "    for i in range(period, len(actual_prices)):\n",
        "        if (actual_prices[i] > actual_prices[i-period] * (1 + threshold)) and (predictions[i-period] < predictions[i]):\n",
        "            signals.append('buy')\n",
        "        elif actual_prices[i] < actual_prices[i-period] * (1 - threshold):\n",
        "            signals.append('sell')\n",
        "        else:\n",
        "            signals.append('hold')\n",
        "    return signals"
      ],
      "metadata": {
        "id": "JKgs0uM-WZpW"
      },
      "execution_count": null,
      "outputs": []
    },
    {
      "cell_type": "markdown",
      "source": [
        "### Automated Trade Function"
      ],
      "metadata": {
        "id": "3LcI7g5kWeVP"
      }
    },
    {
      "cell_type": "code",
      "source": [
        "def run_trading_bot(client, model, scaler, seq_length, interval=3600):\n",
        "\n",
        "    # Configure logging to output to both file and console\n",
        "    logging.basicConfig(\n",
        "        level=logging.INFO,\n",
        "        format='%(asctime)s - %(name)s - %(levelname)s - %(message)s',\n",
        "        handlers=[\n",
        "            logging.FileHandler('trading_bot.log'),\n",
        "            logging.StreamHandler()\n",
        "        ]\n",
        "    )\n",
        "    prices = []\n",
        "\n",
        "    while True:\n",
        "        try:\n",
        "            live_price = fetch_live_price(client, 'LTC-USD')\n",
        "            if live_price is not None:\n",
        "                prices.append(live_price)\n",
        "\n",
        "                if len(prices) > seq_length:\n",
        "                    scaled_prices = scaler.transform(np.array(prices[-seq_length:]).reshape(-1, 1))\n",
        "                    X = np.array([scaled_prices])\n",
        "                    prediction = model.predict(X)\n",
        "                    prediction = scaler.inverse_transform(prediction)[0, 0]\n",
        "\n",
        "                    actual_prices = np.array(prices[-seq_length:])\n",
        "                    signals = generate_trading_signals(actual_prices, [prediction] * len(actual_prices))\n",
        "\n",
        "                    if signals[-1] != 'hold':\n",
        "                        quote_size = '5'  # Example value, adjust as needed\n",
        "                        place_order_and_log_to_sheets(client, spreadsheet, 'LTC-USD', quote_size, signals[-1])\n",
        "\n",
        "                    # Log current price and signal\n",
        "                    logging.info(f'Price: {live_price}, Prediction: {prediction}, Signal: {signals[-1]}')\n",
        "\n",
        "            time.sleep(interval)\n",
        "\n",
        "        except Exception as e:\n",
        "            logging.error(f'Error in trading bot: {e}')\n",
        "            time.sleep(interval)"
      ],
      "metadata": {
        "id": "EYfdQVanWfuD"
      },
      "execution_count": null,
      "outputs": []
    },
    {
      "cell_type": "markdown",
      "source": [
        "### Main function to pipe everything together"
      ],
      "metadata": {
        "id": "A4h0928SWj5J"
      }
    },
    {
      "cell_type": "code",
      "source": [
        "def main():\n",
        "    # Assuming historical_data contains price data for LTC\n",
        "    ltc_data = historical_data['LTC']['price'].values\n",
        "\n",
        "    # Train LSTM model on LTC and generate predictions\n",
        "    model, scaler, seq_length = train_and_predict(ltc_data)\n",
        "\n",
        "    # Start the automated trading bot\n",
        "    run_trading_bot(client, model, scaler, seq_length)\n",
        "\n",
        "if __name__ == \"__main__\":\n",
        "    main()"
      ],
      "metadata": {
        "id": "XwXGXh4YWovA"
      },
      "execution_count": null,
      "outputs": []
    }
  ]
}